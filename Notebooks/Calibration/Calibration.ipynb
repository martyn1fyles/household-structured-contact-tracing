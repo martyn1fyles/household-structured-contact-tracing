{
 "cells": [
  {
   "cell_type": "markdown",
   "metadata": {},
   "source": [
    "# Model Calibration"
   ]
  },
  {
   "cell_type": "code",
   "execution_count": 1,
   "metadata": {},
   "outputs": [],
   "source": [
    "import sys\n",
    "sys.path.append(\"../..\")\n",
    "import household_contact_tracing.BranchingProcessSimulation as hct\n",
    "import matplotlib.pyplot as plt\n",
    "import numpy as np\n",
    "import scipy.stats as ss\n",
    "import seaborn as sns\n",
    "import pandas as pd\n",
    "import pickle\n",
    "from patsy import dmatrices\n",
    "import statsmodels as sm\n",
    "import statsmodels.api as sma\n",
    "sns.set()"
   ]
  },
  {
   "cell_type": "code",
   "execution_count": 2,
   "metadata": {},
   "outputs": [],
   "source": [
    "def solve_for_x(y, res):\n",
    "    \"\"\"\n",
    "    Used when getting parameters from a linear equation\n",
    "    \"\"\"\n",
    "    c = res.params[0]\n",
    "    m = res.params[1]\n",
    "    \n",
    "    return (y - c) / m"
   ]
  },
  {
   "cell_type": "markdown",
   "metadata": {},
   "source": [
    "There are a large number of parameters that can be calibrated - we primarily are calibrating to the growth rate, however we have the ability to calibrate to a household secondary attack rate and corresponding growth rate.\n"
   ]
  },
  {
   "cell_type": "markdown",
   "metadata": {},
   "source": [
    "Importantly this is the notebook that creates the calibration dictionary."
   ]
  },
  {
   "cell_type": "markdown",
   "metadata": {},
   "source": [
    "## Distribution of secondary infections"
   ]
  },
  {
   "cell_type": "markdown",
   "metadata": {},
   "source": [
    "Simulates the distribution of secondary infections. This is done by Monte Carlo simulating the epidemic for X initial starting households, with X being equal to the starting_infections parameter."
   ]
  },
  {
   "cell_type": "code",
   "execution_count": 3,
   "metadata": {},
   "outputs": [],
   "source": [
    "model_calibrator = hct.model_calibration(haz_rate_scale = 0.15,\n",
    "                                         contact_tracing_success_prob = 0,\n",
    "                                         household_haz_rate_scale = 0.72219,\n",
    "                                         overdispersion = 0.36,\n",
    "                                         infection_reporting_prob = 0.2,\n",
    "                                         contact_trace_delay_par = 3,\n",
    "                                         contact_trace = False,\n",
    "                                         reduce_contacts_by = 0,\n",
    "                                         starting_infections = 1000)\n",
    "\n",
    "out = model_calibrator.generate_secondary_infection_distribution()"
   ]
  },
  {
   "cell_type": "code",
   "execution_count": 4,
   "metadata": {},
   "outputs": [
    {
     "data": {
      "text/plain": [
       "Text(0.5, 0, 'Secondary Infections')"
      ]
     },
     "execution_count": 4,
     "metadata": {},
     "output_type": "execute_result"
    },
    {
     "data": {
      "image/png": "[encoded data removed]",
      "text/plain": [
       "<Figure size 432x288 with 1 Axes>"
      ]
     },
     "metadata": {},
     "output_type": "display_data"
    }
   ],
   "source": [
    "sns.distplot(out, bins = range(21), kde = False)\n",
    "plt.title(\"Distribution of Infections Caused\")\n",
    "plt.xlabel(\"Secondary Infections\")"
   ]
  },
  {
   "cell_type": "markdown",
   "metadata": {},
   "source": [
    "## Growth Rates"
   ]
  },
  {
   "cell_type": "markdown",
   "metadata": {},
   "source": [
    "We prefer to tune our model to a given growth rate, without contact tracing. The growth rate depends upon a (hazard_rate_cale, infection_reporting_prob) pair and we use the simulation script \"Simulate_growth_rates.py\" to perform the growth rate simulations and return a data frame of the outputs. We analyse this data frame here."
   ]
  },
  {
   "cell_type": "code",
   "execution_count": 40,
   "metadata": {},
   "outputs": [],
   "source": [
    "data = pd.read_excel(\"../../Data/Calibration/growth_rates.xlsx\", index_col = 0)\n",
    "days_simulated = 20"
   ]
  },
  {
   "cell_type": "code",
   "execution_count": 41,
   "metadata": {},
   "outputs": [
    {
     "data": {
      "text/html": [
       "<div>\n",
       "<style scoped>\n",
       "    .dataframe tbody tr th:only-of-type {\n",
       "        vertical-align: middle;\n",
       "    }\n",
       "\n",
       "    .dataframe tbody tr th {\n",
       "        vertical-align: top;\n",
       "    }\n",
       "\n",
       "    .dataframe thead th {\n",
       "        text-align: right;\n",
       "    }\n",
       "</style>\n",
       "<table border=\"1\" class=\"dataframe\">\n",
       "  <thead>\n",
       "    <tr style=\"text-align: right;\">\n",
       "      <th></th>\n",
       "      <th>haz_rate_scale</th>\n",
       "      <th>infection_reporting_prob</th>\n",
       "      <th>0</th>\n",
       "      <th>1</th>\n",
       "      <th>2</th>\n",
       "      <th>3</th>\n",
       "      <th>4</th>\n",
       "      <th>5</th>\n",
       "      <th>6</th>\n",
       "      <th>7</th>\n",
       "      <th>...</th>\n",
       "      <th>10</th>\n",
       "      <th>11</th>\n",
       "      <th>12</th>\n",
       "      <th>13</th>\n",
       "      <th>14</th>\n",
       "      <th>15</th>\n",
       "      <th>16</th>\n",
       "      <th>17</th>\n",
       "      <th>18</th>\n",
       "      <th>19</th>\n",
       "    </tr>\n",
       "  </thead>\n",
       "  <tbody>\n",
       "    <tr>\n",
       "      <th>0</th>\n",
       "      <td>0.20</td>\n",
       "      <td>0.1</td>\n",
       "      <td>1000</td>\n",
       "      <td>1002</td>\n",
       "      <td>1059</td>\n",
       "      <td>1258</td>\n",
       "      <td>1613</td>\n",
       "      <td>2192</td>\n",
       "      <td>2896</td>\n",
       "      <td>3751</td>\n",
       "      <td>...</td>\n",
       "      <td>7607</td>\n",
       "      <td>9519</td>\n",
       "      <td>11836</td>\n",
       "      <td>14763</td>\n",
       "      <td>18266</td>\n",
       "      <td>22675</td>\n",
       "      <td>27964</td>\n",
       "      <td>34483</td>\n",
       "      <td>42554</td>\n",
       "      <td>52443</td>\n",
       "    </tr>\n",
       "    <tr>\n",
       "      <th>1</th>\n",
       "      <td>0.20</td>\n",
       "      <td>0.2</td>\n",
       "      <td>1000</td>\n",
       "      <td>1005</td>\n",
       "      <td>1064</td>\n",
       "      <td>1260</td>\n",
       "      <td>1622</td>\n",
       "      <td>2183</td>\n",
       "      <td>2898</td>\n",
       "      <td>3754</td>\n",
       "      <td>...</td>\n",
       "      <td>7383</td>\n",
       "      <td>9253</td>\n",
       "      <td>11363</td>\n",
       "      <td>14081</td>\n",
       "      <td>17302</td>\n",
       "      <td>21220</td>\n",
       "      <td>25989</td>\n",
       "      <td>31889</td>\n",
       "      <td>39083</td>\n",
       "      <td>47896</td>\n",
       "    </tr>\n",
       "    <tr>\n",
       "      <th>2</th>\n",
       "      <td>0.20</td>\n",
       "      <td>0.3</td>\n",
       "      <td>1000</td>\n",
       "      <td>1003</td>\n",
       "      <td>1071</td>\n",
       "      <td>1266</td>\n",
       "      <td>1632</td>\n",
       "      <td>2234</td>\n",
       "      <td>2937</td>\n",
       "      <td>3729</td>\n",
       "      <td>...</td>\n",
       "      <td>7114</td>\n",
       "      <td>8760</td>\n",
       "      <td>10800</td>\n",
       "      <td>13182</td>\n",
       "      <td>16208</td>\n",
       "      <td>19718</td>\n",
       "      <td>23974</td>\n",
       "      <td>29161</td>\n",
       "      <td>35554</td>\n",
       "      <td>43132</td>\n",
       "    </tr>\n",
       "    <tr>\n",
       "      <th>3</th>\n",
       "      <td>0.20</td>\n",
       "      <td>0.4</td>\n",
       "      <td>1000</td>\n",
       "      <td>1004</td>\n",
       "      <td>1064</td>\n",
       "      <td>1275</td>\n",
       "      <td>1642</td>\n",
       "      <td>2164</td>\n",
       "      <td>2844</td>\n",
       "      <td>3603</td>\n",
       "      <td>...</td>\n",
       "      <td>6844</td>\n",
       "      <td>8444</td>\n",
       "      <td>10394</td>\n",
       "      <td>12691</td>\n",
       "      <td>15467</td>\n",
       "      <td>18814</td>\n",
       "      <td>22843</td>\n",
       "      <td>27690</td>\n",
       "      <td>33557</td>\n",
       "      <td>40649</td>\n",
       "    </tr>\n",
       "    <tr>\n",
       "      <th>4</th>\n",
       "      <td>0.20</td>\n",
       "      <td>0.5</td>\n",
       "      <td>1000</td>\n",
       "      <td>1003</td>\n",
       "      <td>1060</td>\n",
       "      <td>1244</td>\n",
       "      <td>1617</td>\n",
       "      <td>2181</td>\n",
       "      <td>2861</td>\n",
       "      <td>3604</td>\n",
       "      <td>...</td>\n",
       "      <td>6739</td>\n",
       "      <td>8272</td>\n",
       "      <td>10016</td>\n",
       "      <td>12101</td>\n",
       "      <td>14684</td>\n",
       "      <td>17654</td>\n",
       "      <td>21239</td>\n",
       "      <td>25604</td>\n",
       "      <td>30715</td>\n",
       "      <td>36887</td>\n",
       "    </tr>\n",
       "    <tr>\n",
       "      <th>...</th>\n",
       "      <td>...</td>\n",
       "      <td>...</td>\n",
       "      <td>...</td>\n",
       "      <td>...</td>\n",
       "      <td>...</td>\n",
       "      <td>...</td>\n",
       "      <td>...</td>\n",
       "      <td>...</td>\n",
       "      <td>...</td>\n",
       "      <td>...</td>\n",
       "      <td>...</td>\n",
       "      <td>...</td>\n",
       "      <td>...</td>\n",
       "      <td>...</td>\n",
       "      <td>...</td>\n",
       "      <td>...</td>\n",
       "      <td>...</td>\n",
       "      <td>...</td>\n",
       "      <td>...</td>\n",
       "      <td>...</td>\n",
       "      <td>...</td>\n",
       "    </tr>\n",
       "    <tr>\n",
       "      <th>245</th>\n",
       "      <td>0.25</td>\n",
       "      <td>0.1</td>\n",
       "      <td>1000</td>\n",
       "      <td>1007</td>\n",
       "      <td>1097</td>\n",
       "      <td>1352</td>\n",
       "      <td>1827</td>\n",
       "      <td>2573</td>\n",
       "      <td>3500</td>\n",
       "      <td>4686</td>\n",
       "      <td>...</td>\n",
       "      <td>10442</td>\n",
       "      <td>13573</td>\n",
       "      <td>17531</td>\n",
       "      <td>22658</td>\n",
       "      <td>29353</td>\n",
       "      <td>37794</td>\n",
       "      <td>48698</td>\n",
       "      <td>62797</td>\n",
       "      <td>80871</td>\n",
       "      <td>104005</td>\n",
       "    </tr>\n",
       "    <tr>\n",
       "      <th>246</th>\n",
       "      <td>0.25</td>\n",
       "      <td>0.2</td>\n",
       "      <td>1000</td>\n",
       "      <td>1002</td>\n",
       "      <td>1059</td>\n",
       "      <td>1293</td>\n",
       "      <td>1728</td>\n",
       "      <td>2373</td>\n",
       "      <td>3234</td>\n",
       "      <td>4259</td>\n",
       "      <td>...</td>\n",
       "      <td>9470</td>\n",
       "      <td>12275</td>\n",
       "      <td>15766</td>\n",
       "      <td>20200</td>\n",
       "      <td>26063</td>\n",
       "      <td>33489</td>\n",
       "      <td>43025</td>\n",
       "      <td>54938</td>\n",
       "      <td>70294</td>\n",
       "      <td>89902</td>\n",
       "    </tr>\n",
       "    <tr>\n",
       "      <th>247</th>\n",
       "      <td>0.25</td>\n",
       "      <td>0.3</td>\n",
       "      <td>1000</td>\n",
       "      <td>1006</td>\n",
       "      <td>1073</td>\n",
       "      <td>1305</td>\n",
       "      <td>1748</td>\n",
       "      <td>2448</td>\n",
       "      <td>3403</td>\n",
       "      <td>4538</td>\n",
       "      <td>...</td>\n",
       "      <td>9682</td>\n",
       "      <td>12478</td>\n",
       "      <td>16079</td>\n",
       "      <td>20640</td>\n",
       "      <td>26412</td>\n",
       "      <td>33636</td>\n",
       "      <td>42867</td>\n",
       "      <td>54455</td>\n",
       "      <td>69370</td>\n",
       "      <td>88277</td>\n",
       "    </tr>\n",
       "    <tr>\n",
       "      <th>248</th>\n",
       "      <td>0.25</td>\n",
       "      <td>0.4</td>\n",
       "      <td>1000</td>\n",
       "      <td>1001</td>\n",
       "      <td>1066</td>\n",
       "      <td>1308</td>\n",
       "      <td>1760</td>\n",
       "      <td>2473</td>\n",
       "      <td>3340</td>\n",
       "      <td>4513</td>\n",
       "      <td>...</td>\n",
       "      <td>9559</td>\n",
       "      <td>12262</td>\n",
       "      <td>15710</td>\n",
       "      <td>19998</td>\n",
       "      <td>25382</td>\n",
       "      <td>32168</td>\n",
       "      <td>40735</td>\n",
       "      <td>51557</td>\n",
       "      <td>65368</td>\n",
       "      <td>82493</td>\n",
       "    </tr>\n",
       "    <tr>\n",
       "      <th>249</th>\n",
       "      <td>0.25</td>\n",
       "      <td>0.5</td>\n",
       "      <td>1000</td>\n",
       "      <td>1006</td>\n",
       "      <td>1063</td>\n",
       "      <td>1292</td>\n",
       "      <td>1762</td>\n",
       "      <td>2461</td>\n",
       "      <td>3309</td>\n",
       "      <td>4336</td>\n",
       "      <td>...</td>\n",
       "      <td>9157</td>\n",
       "      <td>11579</td>\n",
       "      <td>14742</td>\n",
       "      <td>18657</td>\n",
       "      <td>23533</td>\n",
       "      <td>29657</td>\n",
       "      <td>37352</td>\n",
       "      <td>46924</td>\n",
       "      <td>59084</td>\n",
       "      <td>74295</td>\n",
       "    </tr>\n",
       "  </tbody>\n",
       "</table>\n",
       "<p>250 rows × 22 columns</p>\n",
       "</div>"
      ],
      "text/plain": [
       "     haz_rate_scale  infection_reporting_prob     0     1     2     3     4  \\\n",
       "0              0.20                       0.1  1000  1002  1059  1258  1613   \n",
       "1              0.20                       0.2  1000  1005  1064  1260  1622   \n",
       "2              0.20                       0.3  1000  1003  1071  1266  1632   \n",
       "3              0.20                       0.4  1000  1004  1064  1275  1642   \n",
       "4              0.20                       0.5  1000  1003  1060  1244  1617   \n",
       "..              ...                       ...   ...   ...   ...   ...   ...   \n",
       "245            0.25                       0.1  1000  1007  1097  1352  1827   \n",
       "246            0.25                       0.2  1000  1002  1059  1293  1728   \n",
       "247            0.25                       0.3  1000  1006  1073  1305  1748   \n",
       "248            0.25                       0.4  1000  1001  1066  1308  1760   \n",
       "249            0.25                       0.5  1000  1006  1063  1292  1762   \n",
       "\n",
       "        5     6     7  ...     10     11     12     13     14     15     16  \\\n",
       "0    2192  2896  3751  ...   7607   9519  11836  14763  18266  22675  27964   \n",
       "1    2183  2898  3754  ...   7383   9253  11363  14081  17302  21220  25989   \n",
       "2    2234  2937  3729  ...   7114   8760  10800  13182  16208  19718  23974   \n",
       "3    2164  2844  3603  ...   6844   8444  10394  12691  15467  18814  22843   \n",
       "4    2181  2861  3604  ...   6739   8272  10016  12101  14684  17654  21239   \n",
       "..    ...   ...   ...  ...    ...    ...    ...    ...    ...    ...    ...   \n",
       "245  2573  3500  4686  ...  10442  13573  17531  22658  29353  37794  48698   \n",
       "246  2373  3234  4259  ...   9470  12275  15766  20200  26063  33489  43025   \n",
       "247  2448  3403  4538  ...   9682  12478  16079  20640  26412  33636  42867   \n",
       "248  2473  3340  4513  ...   9559  12262  15710  19998  25382  32168  40735   \n",
       "249  2461  3309  4336  ...   9157  11579  14742  18657  23533  29657  37352   \n",
       "\n",
       "        17     18      19  \n",
       "0    34483  42554   52443  \n",
       "1    31889  39083   47896  \n",
       "2    29161  35554   43132  \n",
       "3    27690  33557   40649  \n",
       "4    25604  30715   36887  \n",
       "..     ...    ...     ...  \n",
       "245  62797  80871  104005  \n",
       "246  54938  70294   89902  \n",
       "247  54455  69370   88277  \n",
       "248  51557  65368   82493  \n",
       "249  46924  59084   74295  \n",
       "\n",
       "[250 rows x 22 columns]"
      ]
     },
     "execution_count": 41,
     "metadata": {},
     "output_type": "execute_result"
    }
   ],
   "source": [
    "data"
   ]
  },
  {
   "cell_type": "markdown",
   "metadata": {},
   "source": [
    "## Estimation of Growth Rates:"
   ]
  },
  {
   "cell_type": "markdown",
   "metadata": {},
   "source": [
    "We fit a linear model to the epidemics and estimate the growth rate of the epidemic."
   ]
  },
  {
   "cell_type": "code",
   "execution_count": 42,
   "metadata": {},
   "outputs": [],
   "source": [
    "infection_counts = [str(i) for i in range(days_simulated)]\n",
    "number_rows = data.shape[0]"
   ]
  },
  {
   "cell_type": "code",
   "execution_count": 43,
   "metadata": {},
   "outputs": [],
   "source": [
    "data_subset = data[infection_counts]"
   ]
  },
  {
   "cell_type": "code",
   "execution_count": 44,
   "metadata": {},
   "outputs": [
    {
     "name": "stdout",
     "output_type": "stream",
     "text": [
      "current fit; 249\r"
     ]
    }
   ],
   "source": [
    "growth_rates = []\n",
    "\n",
    "for _ in range(data_subset.shape[0]):\n",
    "    \n",
    "    # Which row are we estiamting growth rate for\n",
    "    print(f\"current fit; {_}\", end = \"\\r\")\n",
    "    \n",
    "    # Difference the counts to get the incidence, take the log to get to the growth rate\n",
    "    log_diff = data_subset.iloc[_].diff(1).apply(lambda x: np.log(x))\n",
    "\n",
    "    # temporary dataframe to pass to the linear model\n",
    "    data_set_up = {\n",
    "        \"log_case_incidence\": log_diff[10:days_simulated],\n",
    "        \"time\": list(range(10, days_simulated))\n",
    "    }\n",
    "    dataframe = pd.DataFrame(data_set_up)\n",
    "\n",
    "    # Set up the regression\n",
    "    y, X = dmatrices('log_case_incidence ~ time', \n",
    "                     data = dataframe)\n",
    "    model = sma.RLM(y, X)\n",
    "    res = model.fit()\n",
    "    growth_rates.append(res.params[1])\n",
    "\n",
    "    # Unable to handle missing data, where the epidemic has died out for example\n",
    "    if res.params[1] == -float(\"inf\"):\n",
    "        print(f\"missing data in line {_}\")"
   ]
  },
  {
   "cell_type": "code",
   "execution_count": 45,
   "metadata": {},
   "outputs": [],
   "source": [
    "growth_rate_data =pd.DataFrame({\n",
    "    \"growth_rate\": growth_rates,\n",
    "    \"infection_reporting_prob\": data[\"infection_reporting_prob\"],\n",
    "    \"hazard_rate_scale\": data[\"haz_rate_scale\"]\n",
    "})"
   ]
  },
  {
   "cell_type": "code",
   "execution_count": 46,
   "metadata": {},
   "outputs": [
    {
     "name": "stdout",
     "output_type": "stream",
     "text": [
      "                            OLS Regression Results                            \n",
      "==============================================================================\n",
      "Dep. Variable:            growth_rate   R-squared:                       0.990\n",
      "Model:                            OLS   Adj. R-squared:                  0.989\n",
      "Method:                 Least Squares   F-statistic:                 1.172e+04\n",
      "Date:                Mon, 25 May 2020   Prob (F-statistic):          1.83e-245\n",
      "Time:                        10:41:13   Log-Likelihood:                 1240.6\n",
      "No. Observations:                 250   AIC:                            -2475.\n",
      "Df Residuals:                     247   BIC:                            -2465.\n",
      "Df Model:                           2                                         \n",
      "Covariance Type:            nonrobust                                         \n",
      "============================================================================================\n",
      "                               coef    std err          t      P>|t|      [0.025      0.975]\n",
      "--------------------------------------------------------------------------------------------\n",
      "Intercept                    0.0283      0.002     16.970      0.000       0.025       0.032\n",
      "hazard_rate_scale            0.9216      0.007    125.976      0.000       0.907       0.936\n",
      "infection_reporting_prob    -0.0662      0.001    -86.967      0.000      -0.068      -0.065\n",
      "==============================================================================\n",
      "Omnibus:                       13.155   Durbin-Watson:                   2.090\n",
      "Prob(Omnibus):                  0.001   Jarque-Bera (JB):               14.379\n",
      "Skew:                          -0.485   Prob(JB):                     0.000754\n",
      "Kurtosis:                       3.663   Cond. No.                         74.4\n",
      "==============================================================================\n",
      "\n",
      "Warnings:\n",
      "[1] Standard Errors assume that the covariance matrix of the errors is correctly specified.\n"
     ]
    }
   ],
   "source": [
    "y, X = dmatrices('growth_rate ~ hazard_rate_scale + infection_reporting_prob', \n",
    "                 data = growth_rate_data)\n",
    "model_1 = sma.OLS(y, X)\n",
    "res = model_1.fit()\n",
    "print(res.summary())"
   ]
  },
  {
   "cell_type": "code",
   "execution_count": 47,
   "metadata": {},
   "outputs": [
    {
     "data": {
      "image/png": "[encoded data removed]",
      "text/plain": [
       "<Figure size 432x288 with 1 Axes>"
      ]
     },
     "metadata": {},
     "output_type": "display_data"
    }
   ],
   "source": [
    "fig = sm.graphics.regressionplots.plot_fit(res, 1)"
   ]
  },
  {
   "cell_type": "code",
   "execution_count": 48,
   "metadata": {},
   "outputs": [],
   "source": [
    "def solve_for_hazard_rate(results, infection_report_prob, growth_rate):\n",
    "    \"\"\"\n",
    "    Sovles for the required hazard rate from the regression data.\n",
    "    \"\"\"\n",
    "    intercept = res.params[0]\n",
    "    beta_0 = res.params[1]\n",
    "    beta_1 = res.params[2]\n",
    "    hazard_rate_scale = (growth_rate - intercept - beta_1 * infection_report_prob) / beta_0\n",
    "    return hazard_rate_scale"
   ]
  },
  {
   "cell_type": "code",
   "execution_count": 49,
   "metadata": {},
   "outputs": [],
   "source": [
    "hazard_rate_getter = lambda infection_report_prob: solve_for_hazard_rate(res, infection_report_prob = infection_report_prob, growth_rate = 0.22)"
   ]
  },
  {
   "cell_type": "code",
   "execution_count": 50,
   "metadata": {},
   "outputs": [],
   "source": [
    "infection_detect_probs = [0.1, 0.2, 0.3, 0.4, 0.5]\n",
    "hazard_rates = map(hazard_rate_getter, infection_detect_probs)\n",
    "hazard_rate_detection_prob_pairs = dict(zip(infection_detect_probs, hazard_rates))"
   ]
  },
  {
   "cell_type": "code",
   "execution_count": 51,
   "metadata": {},
   "outputs": [
    {
     "data": {
      "text/plain": [
       "{0.1: 0.21523276281929152,\n",
       " 0.2: 0.22242098020187553,\n",
       " 0.3: 0.22960919758445958,\n",
       " 0.4: 0.23679741496704362,\n",
       " 0.5: 0.24398563234962767}"
      ]
     },
     "execution_count": 51,
     "metadata": {},
     "output_type": "execute_result"
    }
   ],
   "source": [
    "hazard_rate_detection_prob_pairs"
   ]
  },
  {
   "cell_type": "code",
   "execution_count": 52,
   "metadata": {},
   "outputs": [],
   "source": [
    "with open('../../Data/Calibration/hazard_rate_detection_prob_pairs.pickle', 'wb') as handle:\n",
    "    pickle.dump(hazard_rate_detection_prob_pairs, handle, protocol=pickle.HIGHEST_PROTOCOL)"
   ]
  },
  {
   "cell_type": "markdown",
   "metadata": {},
   "source": [
    "To load the data use the following:"
   ]
  },
  {
   "cell_type": "code",
   "execution_count": 53,
   "metadata": {},
   "outputs": [],
   "source": [
    "with open('../../Data/Calibration/hazard_rate_detection_prob_pairs.pickle', 'rb') as handle:\n",
    "    pairs_dict = pickle.load(handle)\n"
   ]
  },
  {
   "cell_type": "markdown",
   "metadata": {},
   "source": [
    "## Calibrating the household secondary attack rate"
   ]
  },
  {
   "cell_type": "markdown",
   "metadata": {},
   "source": [
    "The following code estimates the household secondary attack rate for a given hazard rate scale by simulating the within household epidemics. The number of simulations performed is equal to the starting_infections value."
   ]
  },
  {
   "cell_type": "code",
   "execution_count": 36,
   "metadata": {},
   "outputs": [],
   "source": [
    "model_calibrator = hct.model_calibration(haz_rate_scale = 0,\n",
    "                                         household_haz_rate_scale = 0.77729,\n",
    "                                         contact_tracing_success_prob = 2/3,\n",
    "                                         overdispersion = 0.36,\n",
    "                                         infection_reporting_prob = 0.2,\n",
    "                                         contact_trace_delay_par = 3,\n",
    "                                         contact_trace = False,\n",
    "                                         reduce_contacts_by = 0,\n",
    "                                         starting_infections = 2000)"
   ]
  },
  {
   "cell_type": "code",
   "execution_count": 37,
   "metadata": {},
   "outputs": [
    {
     "name": "stdout",
     "output_type": "stream",
     "text": [
      "Wall time: 23.9 s\n"
     ]
    },
    {
     "data": {
      "text/plain": [
       "0.2724783204016431"
      ]
     },
     "execution_count": 37,
     "metadata": {},
     "output_type": "execute_result"
    }
   ],
   "source": [
    "%%time\n",
    "model_calibrator.estimate_secondary_attack_rate()"
   ]
  },
  {
   "cell_type": "markdown",
   "metadata": {},
   "source": [
    "To estimate the household secondary attack rate, model calibrator simulates the local epidemics, which is very cheap to do"
   ]
  },
  {
   "cell_type": "code",
   "execution_count": 38,
   "metadata": {},
   "outputs": [],
   "source": [
    "x = np.linspace(0, 14) \n",
    "y = list(map(hct.weibull_pdf, x))"
   ]
  },
  {
   "cell_type": "code",
   "execution_count": 39,
   "metadata": {},
   "outputs": [
    {
     "data": {
      "text/plain": [
       "[<matplotlib.lines.Line2D at 0x1b1e14f80c8>]"
      ]
     },
     "execution_count": 39,
     "metadata": {},
     "output_type": "execute_result"
    },
    {
     "data": {
      "image/png": "[encoded data removed]",
      "image/svg+xml": [
       "<?xml version=\"1.0\" encoding=\"utf-8\" standalone=\"no\"?>\r\n",
       "<!DOCTYPE svg PUBLIC \"-//W3C//DTD SVG 1.1//EN\"\r\n",
       "  \"http://www.w3.org/Graphics/SVG/1.1/DTD/svg11.dtd\">\r\n",
       "<!-- Created with matplotlib (https://matplotlib.org/) -->\r\n",
       "<svg height=\"251.399844pt\" version=\"1.1\" viewBox=\"0 0 386.224062 251.399844\" width=\"386.224062pt\" xmlns=\"http://www.w3.org/2000/svg\" xmlns:xlink=\"http://www.w3.org/1999/xlink\">\r\n",
       " <defs>\r\n",
       "  <style type=\"text/css\">\r\n",
       "*{stroke-linecap:butt;stroke-linejoin:round;}\r\n",
       "  </style>\r\n",
       " </defs>\r\n",
       " <g id=\"figure_1\">\r\n",
       "  <g id=\"patch_1\">\r\n",
       "   <path d=\"M 0 251.399844 \r\n",
       "L 386.224062 251.399844 \r\n",
       "L 386.224062 0 \r\n",
       "L 0 0 \r\n",
       "z\r\n",
       "\" style=\"fill:#ffffff;\"/>\r\n",
       "  </g>\r\n",
       "  <g id=\"axes_1\">\r\n",
       "   <g id=\"patch_2\">\r\n",
       "    <path d=\"M 44.224063 224.64 \r\n",
       "L 379.024063 224.64 \r\n",
       "L 379.024063 7.2 \r\n",
       "L 44.224063 7.2 \r\n",
       "z\r\n",
       "\" style=\"fill:#eaeaf2;\"/>\r\n",
       "   </g>\r\n",
       "   <g id=\"matplotlib.axis_1\">\r\n",
       "    <g id=\"xtick_1\">\r\n",
       "     <g id=\"line2d_1\">\r\n",
       "      <path clip-path=\"url(#p63d59ded16)\" d=\"M 76.484722 224.64 \r\n",
       "L 76.484722 7.2 \r\n",
       "\" style=\"fill:none;stroke:#ffffff;stroke-linecap:round;\"/>\r\n",
       "     </g>\r\n",
       "     <g id=\"text_1\">\r\n",
       "      <!-- 0 -->\r\n",
       "      <defs>\r\n",
       "       <path d=\"M 4.15625 35.296875 \r\n",
       "Q 4.15625 48 6.765625 55.734375 \r\n",
       "Q 9.375 63.484375 14.515625 67.671875 \r\n",
       "Q 19.671875 71.875 27.484375 71.875 \r\n",
       "Q 33.25 71.875 37.59375 69.546875 \r\n",
       "Q 41.9375 67.234375 44.765625 62.859375 \r\n",
       "Q 47.609375 58.5 49.21875 52.21875 \r\n",
       "Q 50.828125 45.953125 50.828125 35.296875 \r\n",
       "Q 50.828125 22.703125 48.234375 14.96875 \r\n",
       "Q 45.65625 7.234375 40.5 3 \r\n",
       "Q 35.359375 -1.21875 27.484375 -1.21875 \r\n",
       "Q 17.140625 -1.21875 11.234375 6.203125 \r\n",
       "Q 4.15625 15.140625 4.15625 35.296875 \r\n",
       "z\r\n",
       "M 13.1875 35.296875 \r\n",
       "Q 13.1875 17.671875 17.3125 11.828125 \r\n",
       "Q 21.4375 6 27.484375 6 \r\n",
       "Q 33.546875 6 37.671875 11.859375 \r\n",
       "Q 41.796875 17.71875 41.796875 35.296875 \r\n",
       "Q 41.796875 52.984375 37.671875 58.78125 \r\n",
       "Q 33.546875 64.59375 27.390625 64.59375 \r\n",
       "Q 21.34375 64.59375 17.71875 59.46875 \r\n",
       "Q 13.1875 52.9375 13.1875 35.296875 \r\n",
       "z\r\n",
       "\" id=\"ArialMT-48\"/>\r\n",
       "      </defs>\r\n",
       "      <g style=\"fill:#262626;\" transform=\"translate(73.426207 242.013594)scale(0.11 -0.11)\">\r\n",
       "       <use xlink:href=\"#ArialMT-48\"/>\r\n",
       "      </g>\r\n",
       "     </g>\r\n",
       "    </g>\r\n",
       "    <g id=\"xtick_2\">\r\n",
       "     <g id=\"line2d_2\">\r\n",
       "      <path clip-path=\"url(#p63d59ded16)\" d=\"M 117.530602 224.64 \r\n",
       "L 117.530602 7.2 \r\n",
       "\" style=\"fill:none;stroke:#ffffff;stroke-linecap:round;\"/>\r\n",
       "     </g>\r\n",
       "     <g id=\"text_2\">\r\n",
       "      <!-- 2 -->\r\n",
       "      <defs>\r\n",
       "       <path d=\"M 50.34375 8.453125 \r\n",
       "L 50.34375 0 \r\n",
       "L 3.03125 0 \r\n",
       "Q 2.9375 3.171875 4.046875 6.109375 \r\n",
       "Q 5.859375 10.9375 9.828125 15.625 \r\n",
       "Q 13.8125 20.3125 21.34375 26.46875 \r\n",
       "Q 33.015625 36.03125 37.109375 41.625 \r\n",
       "Q 41.21875 47.21875 41.21875 52.203125 \r\n",
       "Q 41.21875 57.421875 37.46875 61 \r\n",
       "Q 33.734375 64.59375 27.734375 64.59375 \r\n",
       "Q 21.390625 64.59375 17.578125 60.78125 \r\n",
       "Q 13.765625 56.984375 13.71875 50.25 \r\n",
       "L 4.6875 51.171875 \r\n",
       "Q 5.609375 61.28125 11.65625 66.578125 \r\n",
       "Q 17.71875 71.875 27.9375 71.875 \r\n",
       "Q 38.234375 71.875 44.234375 66.15625 \r\n",
       "Q 50.25 60.453125 50.25 52 \r\n",
       "Q 50.25 47.703125 48.484375 43.546875 \r\n",
       "Q 46.734375 39.40625 42.65625 34.8125 \r\n",
       "Q 38.578125 30.21875 29.109375 22.21875 \r\n",
       "Q 21.1875 15.578125 18.9375 13.203125 \r\n",
       "Q 16.703125 10.84375 15.234375 8.453125 \r\n",
       "z\r\n",
       "\" id=\"ArialMT-50\"/>\r\n",
       "      </defs>\r\n",
       "      <g style=\"fill:#262626;\" transform=\"translate(114.472086 242.013594)scale(0.11 -0.11)\">\r\n",
       "       <use xlink:href=\"#ArialMT-50\"/>\r\n",
       "      </g>\r\n",
       "     </g>\r\n",
       "    </g>\r\n",
       "    <g id=\"xtick_3\">\r\n",
       "     <g id=\"line2d_3\">\r\n",
       "      <path clip-path=\"url(#p63d59ded16)\" d=\"M 158.576482 224.64 \r\n",
       "L 158.576482 7.2 \r\n",
       "\" style=\"fill:none;stroke:#ffffff;stroke-linecap:round;\"/>\r\n",
       "     </g>\r\n",
       "     <g id=\"text_3\">\r\n",
       "      <!-- 4 -->\r\n",
       "      <defs>\r\n",
       "       <path d=\"M 32.328125 0 \r\n",
       "L 32.328125 17.140625 \r\n",
       "L 1.265625 17.140625 \r\n",
       "L 1.265625 25.203125 \r\n",
       "L 33.9375 71.578125 \r\n",
       "L 41.109375 71.578125 \r\n",
       "L 41.109375 25.203125 \r\n",
       "L 50.78125 25.203125 \r\n",
       "L 50.78125 17.140625 \r\n",
       "L 41.109375 17.140625 \r\n",
       "L 41.109375 0 \r\n",
       "z\r\n",
       "M 32.328125 25.203125 \r\n",
       "L 32.328125 57.46875 \r\n",
       "L 9.90625 25.203125 \r\n",
       "z\r\n",
       "\" id=\"ArialMT-52\"/>\r\n",
       "      </defs>\r\n",
       "      <g style=\"fill:#262626;\" transform=\"translate(155.517966 242.013594)scale(0.11 -0.11)\">\r\n",
       "       <use xlink:href=\"#ArialMT-52\"/>\r\n",
       "      </g>\r\n",
       "     </g>\r\n",
       "    </g>\r\n",
       "    <g id=\"xtick_4\">\r\n",
       "     <g id=\"line2d_4\">\r\n",
       "      <path clip-path=\"url(#p63d59ded16)\" d=\"M 199.622362 224.64 \r\n",
       "L 199.622362 7.2 \r\n",
       "\" style=\"fill:none;stroke:#ffffff;stroke-linecap:round;\"/>\r\n",
       "     </g>\r\n",
       "     <g id=\"text_4\">\r\n",
       "      <!-- 6 -->\r\n",
       "      <defs>\r\n",
       "       <path d=\"M 49.75 54.046875 \r\n",
       "L 41.015625 53.375 \r\n",
       "Q 39.84375 58.546875 37.703125 60.890625 \r\n",
       "Q 34.125 64.65625 28.90625 64.65625 \r\n",
       "Q 24.703125 64.65625 21.53125 62.3125 \r\n",
       "Q 17.390625 59.28125 14.984375 53.46875 \r\n",
       "Q 12.59375 47.65625 12.5 36.921875 \r\n",
       "Q 15.671875 41.75 20.265625 44.09375 \r\n",
       "Q 24.859375 46.4375 29.890625 46.4375 \r\n",
       "Q 38.671875 46.4375 44.84375 39.96875 \r\n",
       "Q 51.03125 33.5 51.03125 23.25 \r\n",
       "Q 51.03125 16.5 48.125 10.71875 \r\n",
       "Q 45.21875 4.9375 40.140625 1.859375 \r\n",
       "Q 35.0625 -1.21875 28.609375 -1.21875 \r\n",
       "Q 17.625 -1.21875 10.6875 6.859375 \r\n",
       "Q 3.765625 14.9375 3.765625 33.5 \r\n",
       "Q 3.765625 54.25 11.421875 63.671875 \r\n",
       "Q 18.109375 71.875 29.4375 71.875 \r\n",
       "Q 37.890625 71.875 43.28125 67.140625 \r\n",
       "Q 48.6875 62.40625 49.75 54.046875 \r\n",
       "z\r\n",
       "M 13.875 23.1875 \r\n",
       "Q 13.875 18.65625 15.796875 14.5 \r\n",
       "Q 17.71875 10.359375 21.1875 8.171875 \r\n",
       "Q 24.65625 6 28.46875 6 \r\n",
       "Q 34.03125 6 38.03125 10.484375 \r\n",
       "Q 42.046875 14.984375 42.046875 22.703125 \r\n",
       "Q 42.046875 30.125 38.078125 34.390625 \r\n",
       "Q 34.125 38.671875 28.125 38.671875 \r\n",
       "Q 22.171875 38.671875 18.015625 34.390625 \r\n",
       "Q 13.875 30.125 13.875 23.1875 \r\n",
       "z\r\n",
       "\" id=\"ArialMT-54\"/>\r\n",
       "      </defs>\r\n",
       "      <g style=\"fill:#262626;\" transform=\"translate(196.563846 242.013594)scale(0.11 -0.11)\">\r\n",
       "       <use xlink:href=\"#ArialMT-54\"/>\r\n",
       "      </g>\r\n",
       "     </g>\r\n",
       "    </g>\r\n",
       "    <g id=\"xtick_5\">\r\n",
       "     <g id=\"line2d_5\">\r\n",
       "      <path clip-path=\"url(#p63d59ded16)\" d=\"M 240.668241 224.64 \r\n",
       "L 240.668241 7.2 \r\n",
       "\" style=\"fill:none;stroke:#ffffff;stroke-linecap:round;\"/>\r\n",
       "     </g>\r\n",
       "     <g id=\"text_5\">\r\n",
       "      <!-- 8 -->\r\n",
       "      <defs>\r\n",
       "       <path d=\"M 17.671875 38.8125 \r\n",
       "Q 12.203125 40.828125 9.5625 44.53125 \r\n",
       "Q 6.9375 48.25 6.9375 53.421875 \r\n",
       "Q 6.9375 61.234375 12.546875 66.546875 \r\n",
       "Q 18.171875 71.875 27.484375 71.875 \r\n",
       "Q 36.859375 71.875 42.578125 66.421875 \r\n",
       "Q 48.296875 60.984375 48.296875 53.171875 \r\n",
       "Q 48.296875 48.1875 45.671875 44.5 \r\n",
       "Q 43.0625 40.828125 37.75 38.8125 \r\n",
       "Q 44.34375 36.671875 47.78125 31.875 \r\n",
       "Q 51.21875 27.09375 51.21875 20.453125 \r\n",
       "Q 51.21875 11.28125 44.71875 5.03125 \r\n",
       "Q 38.234375 -1.21875 27.640625 -1.21875 \r\n",
       "Q 17.046875 -1.21875 10.546875 5.046875 \r\n",
       "Q 4.046875 11.328125 4.046875 20.703125 \r\n",
       "Q 4.046875 27.6875 7.59375 32.390625 \r\n",
       "Q 11.140625 37.109375 17.671875 38.8125 \r\n",
       "z\r\n",
       "M 15.921875 53.71875 \r\n",
       "Q 15.921875 48.640625 19.1875 45.40625 \r\n",
       "Q 22.46875 42.1875 27.6875 42.1875 \r\n",
       "Q 32.765625 42.1875 36.015625 45.375 \r\n",
       "Q 39.265625 48.578125 39.265625 53.21875 \r\n",
       "Q 39.265625 58.0625 35.90625 61.359375 \r\n",
       "Q 32.5625 64.65625 27.59375 64.65625 \r\n",
       "Q 22.5625 64.65625 19.234375 61.421875 \r\n",
       "Q 15.921875 58.203125 15.921875 53.71875 \r\n",
       "z\r\n",
       "M 13.09375 20.65625 \r\n",
       "Q 13.09375 16.890625 14.875 13.375 \r\n",
       "Q 16.65625 9.859375 20.171875 7.921875 \r\n",
       "Q 23.6875 6 27.734375 6 \r\n",
       "Q 34.03125 6 38.125 10.046875 \r\n",
       "Q 42.234375 14.109375 42.234375 20.359375 \r\n",
       "Q 42.234375 26.703125 38.015625 30.859375 \r\n",
       "Q 33.796875 35.015625 27.4375 35.015625 \r\n",
       "Q 21.234375 35.015625 17.15625 30.90625 \r\n",
       "Q 13.09375 26.8125 13.09375 20.65625 \r\n",
       "z\r\n",
       "\" id=\"ArialMT-56\"/>\r\n",
       "      </defs>\r\n",
       "      <g style=\"fill:#262626;\" transform=\"translate(237.609726 242.013594)scale(0.11 -0.11)\">\r\n",
       "       <use xlink:href=\"#ArialMT-56\"/>\r\n",
       "      </g>\r\n",
       "     </g>\r\n",
       "    </g>\r\n",
       "    <g id=\"xtick_6\">\r\n",
       "     <g id=\"line2d_6\">\r\n",
       "      <path clip-path=\"url(#p63d59ded16)\" d=\"M 281.714121 224.64 \r\n",
       "L 281.714121 7.2 \r\n",
       "\" style=\"fill:none;stroke:#ffffff;stroke-linecap:round;\"/>\r\n",
       "     </g>\r\n",
       "     <g id=\"text_6\">\r\n",
       "      <!-- 10 -->\r\n",
       "      <defs>\r\n",
       "       <path d=\"M 37.25 0 \r\n",
       "L 28.46875 0 \r\n",
       "L 28.46875 56 \r\n",
       "Q 25.296875 52.984375 20.140625 49.953125 \r\n",
       "Q 14.984375 46.921875 10.890625 45.40625 \r\n",
       "L 10.890625 53.90625 \r\n",
       "Q 18.265625 57.375 23.78125 62.296875 \r\n",
       "Q 29.296875 67.234375 31.59375 71.875 \r\n",
       "L 37.25 71.875 \r\n",
       "z\r\n",
       "\" id=\"ArialMT-49\"/>\r\n",
       "      </defs>\r\n",
       "      <g style=\"fill:#262626;\" transform=\"translate(275.59709 242.013594)scale(0.11 -0.11)\">\r\n",
       "       <use xlink:href=\"#ArialMT-49\"/>\r\n",
       "       <use x=\"55.615234\" xlink:href=\"#ArialMT-48\"/>\r\n",
       "      </g>\r\n",
       "     </g>\r\n",
       "    </g>\r\n",
       "    <g id=\"xtick_7\">\r\n",
       "     <g id=\"line2d_7\">\r\n",
       "      <path clip-path=\"url(#p63d59ded16)\" d=\"M 322.760001 224.64 \r\n",
       "L 322.760001 7.2 \r\n",
       "\" style=\"fill:none;stroke:#ffffff;stroke-linecap:round;\"/>\r\n",
       "     </g>\r\n",
       "     <g id=\"text_7\">\r\n",
       "      <!-- 12 -->\r\n",
       "      <g style=\"fill:#262626;\" transform=\"translate(316.64297 242.013594)scale(0.11 -0.11)\">\r\n",
       "       <use xlink:href=\"#ArialMT-49\"/>\r\n",
       "       <use x=\"55.615234\" xlink:href=\"#ArialMT-50\"/>\r\n",
       "      </g>\r\n",
       "     </g>\r\n",
       "    </g>\r\n",
       "    <g id=\"xtick_8\">\r\n",
       "     <g id=\"line2d_8\">\r\n",
       "      <path clip-path=\"url(#p63d59ded16)\" d=\"M 363.805881 224.64 \r\n",
       "L 363.805881 7.2 \r\n",
       "\" style=\"fill:none;stroke:#ffffff;stroke-linecap:round;\"/>\r\n",
       "     </g>\r\n",
       "     <g id=\"text_8\">\r\n",
       "      <!-- 14 -->\r\n",
       "      <g style=\"fill:#262626;\" transform=\"translate(357.688849 242.013594)scale(0.11 -0.11)\">\r\n",
       "       <use xlink:href=\"#ArialMT-49\"/>\r\n",
       "       <use x=\"55.615234\" xlink:href=\"#ArialMT-52\"/>\r\n",
       "      </g>\r\n",
       "     </g>\r\n",
       "    </g>\r\n",
       "   </g>\r\n",
       "   <g id=\"matplotlib.axis_2\">\r\n",
       "    <g id=\"ytick_1\">\r\n",
       "     <g id=\"line2d_9\">\r\n",
       "      <path clip-path=\"url(#p63d59ded16)\" d=\"M 44.224063 224.64 \r\n",
       "L 379.024063 224.64 \r\n",
       "\" style=\"fill:none;stroke:#ffffff;stroke-linecap:round;\"/>\r\n",
       "     </g>\r\n",
       "     <g id=\"text_9\">\r\n",
       "      <!-- 0.000 -->\r\n",
       "      <defs>\r\n",
       "       <path d=\"M 9.078125 0 \r\n",
       "L 9.078125 10.015625 \r\n",
       "L 19.09375 10.015625 \r\n",
       "L 19.09375 0 \r\n",
       "z\r\n",
       "\" id=\"ArialMT-46\"/>\r\n",
       "      </defs>\r\n",
       "      <g style=\"fill:#262626;\" transform=\"translate(7.2 228.576797)scale(0.11 -0.11)\">\r\n",
       "       <use xlink:href=\"#ArialMT-48\"/>\r\n",
       "       <use x=\"55.615234\" xlink:href=\"#ArialMT-46\"/>\r\n",
       "       <use x=\"83.398438\" xlink:href=\"#ArialMT-48\"/>\r\n",
       "       <use x=\"139.013672\" xlink:href=\"#ArialMT-48\"/>\r\n",
       "       <use x=\"194.628906\" xlink:href=\"#ArialMT-48\"/>\r\n",
       "      </g>\r\n",
       "     </g>\r\n",
       "    </g>\r\n",
       "    <g id=\"ytick_2\">\r\n",
       "     <g id=\"line2d_10\">\r\n",
       "      <path clip-path=\"url(#p63d59ded16)\" d=\"M 44.224063 198.690542 \r\n",
       "L 379.024063 198.690542 \r\n",
       "\" style=\"fill:none;stroke:#ffffff;stroke-linecap:round;\"/>\r\n",
       "     </g>\r\n",
       "     <g id=\"text_10\">\r\n",
       "      <!-- 0.025 -->\r\n",
       "      <defs>\r\n",
       "       <path d=\"M 4.15625 18.75 \r\n",
       "L 13.375 19.53125 \r\n",
       "Q 14.40625 12.796875 18.140625 9.390625 \r\n",
       "Q 21.875 6 27.15625 6 \r\n",
       "Q 33.5 6 37.890625 10.78125 \r\n",
       "Q 42.28125 15.578125 42.28125 23.484375 \r\n",
       "Q 42.28125 31 38.0625 35.34375 \r\n",
       "Q 33.84375 39.703125 27 39.703125 \r\n",
       "Q 22.75 39.703125 19.328125 37.765625 \r\n",
       "Q 15.921875 35.84375 13.96875 32.765625 \r\n",
       "L 5.71875 33.84375 \r\n",
       "L 12.640625 70.609375 \r\n",
       "L 48.25 70.609375 \r\n",
       "L 48.25 62.203125 \r\n",
       "L 19.671875 62.203125 \r\n",
       "L 15.828125 42.96875 \r\n",
       "Q 22.265625 47.46875 29.34375 47.46875 \r\n",
       "Q 38.71875 47.46875 45.15625 40.96875 \r\n",
       "Q 51.609375 34.46875 51.609375 24.265625 \r\n",
       "Q 51.609375 14.546875 45.953125 7.46875 \r\n",
       "Q 39.0625 -1.21875 27.15625 -1.21875 \r\n",
       "Q 17.390625 -1.21875 11.203125 4.25 \r\n",
       "Q 5.03125 9.71875 4.15625 18.75 \r\n",
       "z\r\n",
       "\" id=\"ArialMT-53\"/>\r\n",
       "      </defs>\r\n",
       "      <g style=\"fill:#262626;\" transform=\"translate(7.2 202.627339)scale(0.11 -0.11)\">\r\n",
       "       <use xlink:href=\"#ArialMT-48\"/>\r\n",
       "       <use x=\"55.615234\" xlink:href=\"#ArialMT-46\"/>\r\n",
       "       <use x=\"83.398438\" xlink:href=\"#ArialMT-48\"/>\r\n",
       "       <use x=\"139.013672\" xlink:href=\"#ArialMT-50\"/>\r\n",
       "       <use x=\"194.628906\" xlink:href=\"#ArialMT-53\"/>\r\n",
       "      </g>\r\n",
       "     </g>\r\n",
       "    </g>\r\n",
       "    <g id=\"ytick_3\">\r\n",
       "     <g id=\"line2d_11\">\r\n",
       "      <path clip-path=\"url(#p63d59ded16)\" d=\"M 44.224063 172.741084 \r\n",
       "L 379.024063 172.741084 \r\n",
       "\" style=\"fill:none;stroke:#ffffff;stroke-linecap:round;\"/>\r\n",
       "     </g>\r\n",
       "     <g id=\"text_11\">\r\n",
       "      <!-- 0.050 -->\r\n",
       "      <g style=\"fill:#262626;\" transform=\"translate(7.2 176.677881)scale(0.11 -0.11)\">\r\n",
       "       <use xlink:href=\"#ArialMT-48\"/>\r\n",
       "       <use x=\"55.615234\" xlink:href=\"#ArialMT-46\"/>\r\n",
       "       <use x=\"83.398438\" xlink:href=\"#ArialMT-48\"/>\r\n",
       "       <use x=\"139.013672\" xlink:href=\"#ArialMT-53\"/>\r\n",
       "       <use x=\"194.628906\" xlink:href=\"#ArialMT-48\"/>\r\n",
       "      </g>\r\n",
       "     </g>\r\n",
       "    </g>\r\n",
       "    <g id=\"ytick_4\">\r\n",
       "     <g id=\"line2d_12\">\r\n",
       "      <path clip-path=\"url(#p63d59ded16)\" d=\"M 44.224063 146.791626 \r\n",
       "L 379.024063 146.791626 \r\n",
       "\" style=\"fill:none;stroke:#ffffff;stroke-linecap:round;\"/>\r\n",
       "     </g>\r\n",
       "     <g id=\"text_12\">\r\n",
       "      <!-- 0.075 -->\r\n",
       "      <defs>\r\n",
       "       <path d=\"M 4.734375 62.203125 \r\n",
       "L 4.734375 70.65625 \r\n",
       "L 51.078125 70.65625 \r\n",
       "L 51.078125 63.8125 \r\n",
       "Q 44.234375 56.546875 37.515625 44.484375 \r\n",
       "Q 30.8125 32.421875 27.15625 19.671875 \r\n",
       "Q 24.515625 10.6875 23.78125 0 \r\n",
       "L 14.75 0 \r\n",
       "Q 14.890625 8.453125 18.0625 20.40625 \r\n",
       "Q 21.234375 32.375 27.171875 43.484375 \r\n",
       "Q 33.109375 54.59375 39.796875 62.203125 \r\n",
       "z\r\n",
       "\" id=\"ArialMT-55\"/>\r\n",
       "      </defs>\r\n",
       "      <g style=\"fill:#262626;\" transform=\"translate(7.2 150.728423)scale(0.11 -0.11)\">\r\n",
       "       <use xlink:href=\"#ArialMT-48\"/>\r\n",
       "       <use x=\"55.615234\" xlink:href=\"#ArialMT-46\"/>\r\n",
       "       <use x=\"83.398438\" xlink:href=\"#ArialMT-48\"/>\r\n",
       "       <use x=\"139.013672\" xlink:href=\"#ArialMT-55\"/>\r\n",
       "       <use x=\"194.628906\" xlink:href=\"#ArialMT-53\"/>\r\n",
       "      </g>\r\n",
       "     </g>\r\n",
       "    </g>\r\n",
       "    <g id=\"ytick_5\">\r\n",
       "     <g id=\"line2d_13\">\r\n",
       "      <path clip-path=\"url(#p63d59ded16)\" d=\"M 44.224063 120.842169 \r\n",
       "L 379.024063 120.842169 \r\n",
       "\" style=\"fill:none;stroke:#ffffff;stroke-linecap:round;\"/>\r\n",
       "     </g>\r\n",
       "     <g id=\"text_13\">\r\n",
       "      <!-- 0.100 -->\r\n",
       "      <g style=\"fill:#262626;\" transform=\"translate(7.2 124.778966)scale(0.11 -0.11)\">\r\n",
       "       <use xlink:href=\"#ArialMT-48\"/>\r\n",
       "       <use x=\"55.615234\" xlink:href=\"#ArialMT-46\"/>\r\n",
       "       <use x=\"83.398438\" xlink:href=\"#ArialMT-49\"/>\r\n",
       "       <use x=\"139.013672\" xlink:href=\"#ArialMT-48\"/>\r\n",
       "       <use x=\"194.628906\" xlink:href=\"#ArialMT-48\"/>\r\n",
       "      </g>\r\n",
       "     </g>\r\n",
       "    </g>\r\n",
       "    <g id=\"ytick_6\">\r\n",
       "     <g id=\"line2d_14\">\r\n",
       "      <path clip-path=\"url(#p63d59ded16)\" d=\"M 44.224063 94.892711 \r\n",
       "L 379.024063 94.892711 \r\n",
       "\" style=\"fill:none;stroke:#ffffff;stroke-linecap:round;\"/>\r\n",
       "     </g>\r\n",
       "     <g id=\"text_14\">\r\n",
       "      <!-- 0.125 -->\r\n",
       "      <g style=\"fill:#262626;\" transform=\"translate(7.2 98.829508)scale(0.11 -0.11)\">\r\n",
       "       <use xlink:href=\"#ArialMT-48\"/>\r\n",
       "       <use x=\"55.615234\" xlink:href=\"#ArialMT-46\"/>\r\n",
       "       <use x=\"83.398438\" xlink:href=\"#ArialMT-49\"/>\r\n",
       "       <use x=\"139.013672\" xlink:href=\"#ArialMT-50\"/>\r\n",
       "       <use x=\"194.628906\" xlink:href=\"#ArialMT-53\"/>\r\n",
       "      </g>\r\n",
       "     </g>\r\n",
       "    </g>\r\n",
       "    <g id=\"ytick_7\">\r\n",
       "     <g id=\"line2d_15\">\r\n",
       "      <path clip-path=\"url(#p63d59ded16)\" d=\"M 44.224063 68.943253 \r\n",
       "L 379.024063 68.943253 \r\n",
       "\" style=\"fill:none;stroke:#ffffff;stroke-linecap:round;\"/>\r\n",
       "     </g>\r\n",
       "     <g id=\"text_15\">\r\n",
       "      <!-- 0.150 -->\r\n",
       "      <g style=\"fill:#262626;\" transform=\"translate(7.2 72.88005)scale(0.11 -0.11)\">\r\n",
       "       <use xlink:href=\"#ArialMT-48\"/>\r\n",
       "       <use x=\"55.615234\" xlink:href=\"#ArialMT-46\"/>\r\n",
       "       <use x=\"83.398438\" xlink:href=\"#ArialMT-49\"/>\r\n",
       "       <use x=\"139.013672\" xlink:href=\"#ArialMT-53\"/>\r\n",
       "       <use x=\"194.628906\" xlink:href=\"#ArialMT-48\"/>\r\n",
       "      </g>\r\n",
       "     </g>\r\n",
       "    </g>\r\n",
       "    <g id=\"ytick_8\">\r\n",
       "     <g id=\"line2d_16\">\r\n",
       "      <path clip-path=\"url(#p63d59ded16)\" d=\"M 44.224063 42.993795 \r\n",
       "L 379.024063 42.993795 \r\n",
       "\" style=\"fill:none;stroke:#ffffff;stroke-linecap:round;\"/>\r\n",
       "     </g>\r\n",
       "     <g id=\"text_16\">\r\n",
       "      <!-- 0.175 -->\r\n",
       "      <g style=\"fill:#262626;\" transform=\"translate(7.2 46.930592)scale(0.11 -0.11)\">\r\n",
       "       <use xlink:href=\"#ArialMT-48\"/>\r\n",
       "       <use x=\"55.615234\" xlink:href=\"#ArialMT-46\"/>\r\n",
       "       <use x=\"83.398438\" xlink:href=\"#ArialMT-49\"/>\r\n",
       "       <use x=\"139.013672\" xlink:href=\"#ArialMT-55\"/>\r\n",
       "       <use x=\"194.628906\" xlink:href=\"#ArialMT-53\"/>\r\n",
       "      </g>\r\n",
       "     </g>\r\n",
       "    </g>\r\n",
       "    <g id=\"ytick_9\">\r\n",
       "     <g id=\"line2d_17\">\r\n",
       "      <path clip-path=\"url(#p63d59ded16)\" d=\"M 44.224063 17.044337 \r\n",
       "L 379.024063 17.044337 \r\n",
       "\" style=\"fill:none;stroke:#ffffff;stroke-linecap:round;\"/>\r\n",
       "     </g>\r\n",
       "     <g id=\"text_17\">\r\n",
       "      <!-- 0.200 -->\r\n",
       "      <g style=\"fill:#262626;\" transform=\"translate(7.2 20.981134)scale(0.11 -0.11)\">\r\n",
       "       <use xlink:href=\"#ArialMT-48\"/>\r\n",
       "       <use x=\"55.615234\" xlink:href=\"#ArialMT-46\"/>\r\n",
       "       <use x=\"83.398438\" xlink:href=\"#ArialMT-50\"/>\r\n",
       "       <use x=\"139.013672\" xlink:href=\"#ArialMT-48\"/>\r\n",
       "       <use x=\"194.628906\" xlink:href=\"#ArialMT-48\"/>\r\n",
       "      </g>\r\n",
       "     </g>\r\n",
       "    </g>\r\n",
       "   </g>\r\n",
       "   <g id=\"patch_3\">\r\n",
       "    <path clip-path=\"url(#p63d59ded16)\" d=\"M 76.484722 224.64 \r\n",
       "L 97.007662 224.64 \r\n",
       "L 97.007662 223.293407 \r\n",
       "L 76.484722 223.293407 \r\n",
       "z\r\n",
       "\" style=\"fill:#4c72b0;opacity:0.4;stroke:#ffffff;stroke-linejoin:miter;\"/>\r\n",
       "   </g>\r\n",
       "   <g id=\"patch_4\">\r\n",
       "    <path clip-path=\"url(#p63d59ded16)\" d=\"M 97.007662 224.64 \r\n",
       "L 117.530602 224.64 \r\n",
       "L 117.530602 200.890997 \r\n",
       "L 97.007662 200.890997 \r\n",
       "z\r\n",
       "\" style=\"fill:#4c72b0;opacity:0.4;stroke:#ffffff;stroke-linejoin:miter;\"/>\r\n",
       "   </g>\r\n",
       "   <g id=\"patch_5\">\r\n",
       "    <path clip-path=\"url(#p63d59ded16)\" d=\"M 117.530602 224.64 \r\n",
       "L 138.053542 224.64 \r\n",
       "L 138.053542 149.598049 \r\n",
       "L 117.530602 149.598049 \r\n",
       "z\r\n",
       "\" style=\"fill:#4c72b0;opacity:0.4;stroke:#ffffff;stroke-linejoin:miter;\"/>\r\n",
       "   </g>\r\n",
       "   <g id=\"patch_6\">\r\n",
       "    <path clip-path=\"url(#p63d59ded16)\" d=\"M 138.053542 224.64 \r\n",
       "L 158.576482 224.64 \r\n",
       "L 158.576482 83.186534 \r\n",
       "L 138.053542 83.186534 \r\n",
       "z\r\n",
       "\" style=\"fill:#4c72b0;opacity:0.4;stroke:#ffffff;stroke-linejoin:miter;\"/>\r\n",
       "   </g>\r\n",
       "   <g id=\"patch_7\">\r\n",
       "    <path clip-path=\"url(#p63d59ded16)\" d=\"M 158.576482 224.64 \r\n",
       "L 179.099422 224.64 \r\n",
       "L 179.099422 30.975453 \r\n",
       "L 158.576482 30.975453 \r\n",
       "z\r\n",
       "\" style=\"fill:#4c72b0;opacity:0.4;stroke:#ffffff;stroke-linejoin:miter;\"/>\r\n",
       "   </g>\r\n",
       "   <g id=\"patch_8\">\r\n",
       "    <path clip-path=\"url(#p63d59ded16)\" d=\"M 179.099422 224.64 \r\n",
       "L 199.622362 224.64 \r\n",
       "L 199.622362 17.754359 \r\n",
       "L 179.099422 17.754359 \r\n",
       "z\r\n",
       "\" style=\"fill:#4c72b0;opacity:0.4;stroke:#ffffff;stroke-linejoin:miter;\"/>\r\n",
       "   </g>\r\n",
       "   <g id=\"patch_9\">\r\n",
       "    <path clip-path=\"url(#p63d59ded16)\" d=\"M 199.622362 224.64 \r\n",
       "L 220.145301 224.64 \r\n",
       "L 220.145301 52.214896 \r\n",
       "L 199.622362 52.214896 \r\n",
       "z\r\n",
       "\" style=\"fill:#4c72b0;opacity:0.4;stroke:#ffffff;stroke-linejoin:miter;\"/>\r\n",
       "   </g>\r\n",
       "   <g id=\"patch_10\">\r\n",
       "    <path clip-path=\"url(#p63d59ded16)\" d=\"M 220.145301 224.64 \r\n",
       "L 240.668241 224.64 \r\n",
       "L 240.668241 108.771799 \r\n",
       "L 220.145301 108.771799 \r\n",
       "z\r\n",
       "\" style=\"fill:#4c72b0;opacity:0.4;stroke:#ffffff;stroke-linejoin:miter;\"/>\r\n",
       "   </g>\r\n",
       "   <g id=\"patch_11\">\r\n",
       "    <path clip-path=\"url(#p63d59ded16)\" d=\"M 240.668241 224.64 \r\n",
       "L 261.191181 224.64 \r\n",
       "L 261.191181 159.942331 \r\n",
       "L 240.668241 159.942331 \r\n",
       "z\r\n",
       "\" style=\"fill:#4c72b0;opacity:0.4;stroke:#ffffff;stroke-linejoin:miter;\"/>\r\n",
       "   </g>\r\n",
       "   <g id=\"patch_12\">\r\n",
       "    <path clip-path=\"url(#p63d59ded16)\" d=\"M 261.191181 224.64 \r\n",
       "L 281.714121 224.64 \r\n",
       "L 281.714121 195.198582 \r\n",
       "L 261.191181 195.198582 \r\n",
       "z\r\n",
       "\" style=\"fill:#4c72b0;opacity:0.4;stroke:#ffffff;stroke-linejoin:miter;\"/>\r\n",
       "   </g>\r\n",
       "   <g id=\"patch_13\">\r\n",
       "    <path clip-path=\"url(#p63d59ded16)\" d=\"M 281.714121 224.64 \r\n",
       "L 302.237061 224.64 \r\n",
       "L 302.237061 214.1733 \r\n",
       "L 281.714121 214.1733 \r\n",
       "z\r\n",
       "\" style=\"fill:#4c72b0;opacity:0.4;stroke:#ffffff;stroke-linejoin:miter;\"/>\r\n",
       "   </g>\r\n",
       "   <g id=\"patch_14\">\r\n",
       "    <path clip-path=\"url(#p63d59ded16)\" d=\"M 302.237061 224.64 \r\n",
       "L 322.760001 224.64 \r\n",
       "L 322.760001 222.008023 \r\n",
       "L 302.237061 222.008023 \r\n",
       "z\r\n",
       "\" style=\"fill:#4c72b0;opacity:0.4;stroke:#ffffff;stroke-linejoin:miter;\"/>\r\n",
       "   </g>\r\n",
       "   <g id=\"patch_15\">\r\n",
       "    <path clip-path=\"url(#p63d59ded16)\" d=\"M 322.760001 224.64 \r\n",
       "L 343.282941 224.64 \r\n",
       "L 343.282941 224.333956 \r\n",
       "L 322.760001 224.333956 \r\n",
       "z\r\n",
       "\" style=\"fill:#4c72b0;opacity:0.4;stroke:#ffffff;stroke-linejoin:miter;\"/>\r\n",
       "   </g>\r\n",
       "   <g id=\"line2d_18\">\r\n",
       "    <path clip-path=\"url(#p63d59ded16)\" d=\"M 59.442244 224.64 \r\n",
       "L 70.026075 224.541782 \r\n",
       "L 73.050026 224.118252 \r\n",
       "L 74.562002 223.748441 \r\n",
       "L 76.073978 223.259569 \r\n",
       "L 77.585953 222.643145 \r\n",
       "L 79.097929 221.891727 \r\n",
       "L 80.609905 220.998748 \r\n",
       "L 82.121881 219.958414 \r\n",
       "L 83.633856 218.765643 \r\n",
       "L 85.145832 217.416016 \r\n",
       "L 86.657808 215.905757 \r\n",
       "L 88.169784 214.231717 \r\n",
       "L 91.193735 210.382784 \r\n",
       "L 94.217687 205.856377 \r\n",
       "L 97.241638 200.649624 \r\n",
       "L 100.26559 194.769787 \r\n",
       "L 103.289541 188.234436 \r\n",
       "L 106.313493 181.07157 \r\n",
       "L 109.337444 173.319639 \r\n",
       "L 112.361396 165.027432 \r\n",
       "L 116.897323 151.707497 \r\n",
       "L 121.43325 137.545174 \r\n",
       "L 127.481153 117.84418 \r\n",
       "L 136.553008 88.121959 \r\n",
       "L 141.088935 73.952367 \r\n",
       "L 144.112886 65.00703 \r\n",
       "L 147.136838 56.583389 \r\n",
       "L 150.160789 48.779696 \r\n",
       "L 153.184741 41.687512 \r\n",
       "L 156.208692 35.390036 \r\n",
       "L 159.232644 29.960574 \r\n",
       "L 160.74462 27.59121 \r\n",
       "L 162.256595 25.461173 \r\n",
       "L 163.768571 23.576273 \r\n",
       "L 165.280547 21.941486 \r\n",
       "L 166.792523 20.560934 \r\n",
       "L 168.304498 19.437866 \r\n",
       "L 169.816474 18.574645 \r\n",
       "L 171.32845 17.972742 \r\n",
       "L 172.840426 17.63273 \r\n",
       "L 174.352401 17.554286 \r\n",
       "L 175.864377 17.736196 \r\n",
       "L 177.376353 18.17637 \r\n",
       "L 178.888329 18.871849 \r\n",
       "L 180.400304 19.818835 \r\n",
       "L 181.91228 21.012705 \r\n",
       "L 183.424256 22.448048 \r\n",
       "L 184.936232 24.118691 \r\n",
       "L 186.448207 26.017739 \r\n",
       "L 187.960183 28.137611 \r\n",
       "L 190.984135 33.006353 \r\n",
       "L 194.008086 38.652295 \r\n",
       "L 197.032038 44.994881 \r\n",
       "L 200.055989 51.947314 \r\n",
       "L 203.079941 59.418317 \r\n",
       "L 207.615868 71.39131 \r\n",
       "L 213.663771 88.290369 \r\n",
       "L 227.271553 126.790675 \r\n",
       "L 231.80748 138.872606 \r\n",
       "L 236.343407 150.256408 \r\n",
       "L 239.367359 157.391642 \r\n",
       "L 242.39131 164.129644 \r\n",
       "L 245.415262 170.450274 \r\n",
       "L 248.439213 176.340959 \r\n",
       "L 251.463165 181.796114 \r\n",
       "L 254.487116 186.816488 \r\n",
       "L 257.511068 191.408438 \r\n",
       "L 260.535019 195.58317 \r\n",
       "L 263.558971 199.355968 \r\n",
       "L 266.582922 202.745424 \r\n",
       "L 269.606874 205.7727 \r\n",
       "L 272.630825 208.460825 \r\n",
       "L 275.654777 210.834054 \r\n",
       "L 278.678728 212.917278 \r\n",
       "L 281.70268 214.73551 \r\n",
       "L 284.726631 216.313443 \r\n",
       "L 287.750583 217.675075 \r\n",
       "L 290.774534 218.843411 \r\n",
       "L 293.798486 219.840226 \r\n",
       "L 298.334413 221.058007 \r\n",
       "L 302.87034 221.99768 \r\n",
       "L 307.406267 222.71356 \r\n",
       "L 313.45417 223.398979 \r\n",
       "L 319.502073 223.857384 \r\n",
       "L 327.061952 224.213359 \r\n",
       "L 337.645782 224.467767 \r\n",
       "L 354.277516 224.603983 \r\n",
       "L 360.325419 224.620475 \r\n",
       "L 360.325419 224.620475 \r\n",
       "\" style=\"fill:none;stroke:#282828;stroke-linecap:round;stroke-width:1.5;\"/>\r\n",
       "   </g>\r\n",
       "   <g id=\"line2d_19\">\r\n",
       "    <path clip-path=\"url(#p63d59ded16)\" d=\"M 76.484722 224.64 \r\n",
       "L 82.348419 222.425603 \r\n",
       "L 88.212116 216.799105 \r\n",
       "L 94.075814 208.253617 \r\n",
       "L 99.939511 197.097737 \r\n",
       "L 105.803208 183.636831 \r\n",
       "L 111.666905 168.219568 \r\n",
       "L 117.530602 151.257568 \r\n",
       "L 123.394299 133.231927 \r\n",
       "L 129.257996 114.690023 \r\n",
       "L 135.121693 96.233788 \r\n",
       "L 140.98539 78.500229 \r\n",
       "L 146.849088 62.135275 \r\n",
       "L 152.712785 47.762567 \r\n",
       "L 158.576482 35.949394 \r\n",
       "L 164.440179 27.172516 \r\n",
       "L 170.303876 21.786945 \r\n",
       "L 176.167573 20.000792 \r\n",
       "L 182.03127 21.858991 \r\n",
       "L 187.894967 27.23801 \r\n",
       "L 193.758664 35.852687 \r\n",
       "L 199.622362 47.275101 \r\n",
       "L 205.486059 60.964087 \r\n",
       "L 211.349756 76.302817 \r\n",
       "L 217.213453 92.64096 \r\n",
       "L 223.07715 109.337433 \r\n",
       "L 228.940847 125.799748 \r\n",
       "L 234.804544 141.516478 \r\n",
       "L 240.668241 156.080308 \r\n",
       "L 246.531938 169.200325 \r\n",
       "L 252.395636 180.70354 \r\n",
       "L 258.259333 190.526814 \r\n",
       "L 264.12303 198.701314 \r\n",
       "L 269.986727 205.332152 \r\n",
       "L 275.850424 210.576018 \r\n",
       "L 281.714121 214.619331 \r\n",
       "L 287.577818 217.658927 \r\n",
       "L 293.441515 219.886588 \r\n",
       "L 299.305212 221.477971 \r\n",
       "L 305.16891 222.585904 \r\n",
       "L 311.032607 223.337474 \r\n",
       "L 316.896304 223.834106 \r\n",
       "L 322.760001 224.153694 \r\n",
       "L 328.623698 224.353915 \r\n",
       "L 334.487395 224.475999 \r\n",
       "L 340.351092 224.548425 \r\n",
       "L 346.214789 224.590216 \r\n",
       "L 352.078486 224.61366 \r\n",
       "L 357.942184 224.626444 \r\n",
       "L 363.805881 224.633216 \r\n",
       "\" style=\"fill:none;stroke:#dd8452;stroke-linecap:round;stroke-width:1.5;\"/>\r\n",
       "   </g>\r\n",
       "   <g id=\"patch_16\">\r\n",
       "    <path d=\"M 44.224063 224.64 \r\n",
       "L 44.224063 7.2 \r\n",
       "\" style=\"fill:none;stroke:#ffffff;stroke-linecap:square;stroke-linejoin:miter;stroke-width:1.25;\"/>\r\n",
       "   </g>\r\n",
       "   <g id=\"patch_17\">\r\n",
       "    <path d=\"M 379.024063 224.64 \r\n",
       "L 379.024063 7.2 \r\n",
       "\" style=\"fill:none;stroke:#ffffff;stroke-linecap:square;stroke-linejoin:miter;stroke-width:1.25;\"/>\r\n",
       "   </g>\r\n",
       "   <g id=\"patch_18\">\r\n",
       "    <path d=\"M 44.224063 224.64 \r\n",
       "L 379.024063 224.64 \r\n",
       "\" style=\"fill:none;stroke:#ffffff;stroke-linecap:square;stroke-linejoin:miter;stroke-width:1.25;\"/>\r\n",
       "   </g>\r\n",
       "   <g id=\"patch_19\">\r\n",
       "    <path d=\"M 44.224063 7.2 \r\n",
       "L 379.024063 7.2 \r\n",
       "\" style=\"fill:none;stroke:#ffffff;stroke-linecap:square;stroke-linejoin:miter;stroke-width:1.25;\"/>\r\n",
       "   </g>\r\n",
       "  </g>\r\n",
       " </g>\r\n",
       " <defs>\r\n",
       "  <clipPath id=\"p63d59ded16\">\r\n",
       "   <rect height=\"217.44\" width=\"334.8\" x=\"44.224063\" y=\"7.2\"/>\r\n",
       "  </clipPath>\r\n",
       " </defs>\r\n",
       "</svg>\r\n"
      ],
      "text/plain": [
       "<Figure size 432x288 with 1 Axes>"
      ]
     },
     "metadata": {},
     "output_type": "display_data"
    }
   ],
   "source": [
    "serial_intervals = [node.serial_interval for node in model_calibrator.nodes.all_nodes() if node.generation == 1]\n",
    "sns.distplot(serial_intervals, bins = range(14), kde = False, fit = ss.exponweib)\n",
    "plt.plot(x, y)\n"
   ]
  },
  {
   "cell_type": "code",
   "execution_count": 40,
   "metadata": {},
   "outputs": [
    {
     "ename": "SyntaxError",
     "evalue": "invalid syntax (<unknown>, line 5)",
     "output_type": "error",
     "traceback": [
      "Traceback \u001b[1;36m(most recent call last)\u001b[0m:\n",
      "  File \u001b[0;32m\"C:\\Users\\mfyles\\Anaconda3\\lib\\site-packages\\IPython\\core\\interactiveshell.py\"\u001b[0m, line \u001b[0;32m3331\u001b[0m, in \u001b[0;35mrun_code\u001b[0m\n    exec(code_obj, self.user_global_ns, self.user_ns)\n",
      "  File \u001b[0;32m\"<ipython-input-40-479dd895643b>\"\u001b[0m, line \u001b[0;32m1\u001b[0m, in \u001b[0;35m<module>\u001b[0m\n    get_ipython().run_cell_magic('time', '', 'secondary_attack_rates = []\\nfor x in np.linspace(0.7, 0.9):\\n    model_calibrator = hct.model_calibration(haz_rate_scale = 0,\\n                                            household_haz_rate_scale=x\\n                                            contact_tracing_success_prob = 2/3,\\n                                            overdispersion = 0.36,\\n                                            infection_reporting_prob = 0.2,\\n                                            contact_trace_delay_par = 3,\\n                                            contact_trace = False,\\n                                            reduce_contacts_by = 0,\\n                                            starting_infections = 1000)\\n    secondary_attack_rates.append(model_calibrator.estimate_secondary_attack_rate())\\n    \\ndata = pd.DataFrame({\"household_hazard_rate_scale\": np.linspace(0.7, 0.9),\\n                     \"secondary_attack_rate\": secondary_attack_rates})\\n')\n",
      "  File \u001b[0;32m\"C:\\Users\\mfyles\\Anaconda3\\lib\\site-packages\\IPython\\core\\interactiveshell.py\"\u001b[0m, line \u001b[0;32m2362\u001b[0m, in \u001b[0;35mrun_cell_magic\u001b[0m\n    result = fn(*args, **kwargs)\n",
      "  File \u001b[0;32m\"<C:\\Users\\mfyles\\Anaconda3\\lib\\site-packages\\decorator.py:decorator-gen-62>\"\u001b[0m, line \u001b[0;32m2\u001b[0m, in \u001b[0;35mtime\u001b[0m\n",
      "  File \u001b[0;32m\"C:\\Users\\mfyles\\Anaconda3\\lib\\site-packages\\IPython\\core\\magic.py\"\u001b[0m, line \u001b[0;32m187\u001b[0m, in \u001b[0;35m<lambda>\u001b[0m\n    call = lambda f, *a, **k: f(*a, **k)\n",
      "  File \u001b[0;32m\"C:\\Users\\mfyles\\Anaconda3\\lib\\site-packages\\IPython\\core\\magics\\execution.py\"\u001b[0m, line \u001b[0;32m1268\u001b[0m, in \u001b[0;35mtime\u001b[0m\n    expr_ast = self.shell.compile.ast_parse(expr)\n",
      "\u001b[1;36m  File \u001b[1;32m\"C:\\Users\\mfyles\\Anaconda3\\lib\\site-packages\\IPython\\core\\compilerop.py\"\u001b[1;36m, line \u001b[1;32m101\u001b[1;36m, in \u001b[1;35mast_parse\u001b[1;36m\u001b[0m\n\u001b[1;33m    return compile(source, filename, symbol, self.flags | PyCF_ONLY_AST, 1)\u001b[0m\n",
      "\u001b[1;36m  File \u001b[1;32m\"<unknown>\"\u001b[1;36m, line \u001b[1;32m5\u001b[0m\n\u001b[1;33m    contact_tracing_success_prob = 2/3,\u001b[0m\n\u001b[1;37m                               ^\u001b[0m\n\u001b[1;31mSyntaxError\u001b[0m\u001b[1;31m:\u001b[0m invalid syntax\n"
     ]
    }
   ],
   "source": [
    "%%time\n",
    "secondary_attack_rates = []\n",
    "for x in np.linspace(0.7, 0.9):\n",
    "    print(x, end = \"\\r\")\n",
    "    model_calibrator = hct.model_calibration(haz_rate_scale = 0,\n",
    "                                            household_haz_rate_scale=x,\n",
    "                                            contact_tracing_success_prob = 2/3,\n",
    "                                            overdispersion = 0.36,\n",
    "                                            infection_reporting_prob = 0.2,\n",
    "                                            contact_trace_delay_par = 3,\n",
    "                                            contact_trace = False,\n",
    "                                            reduce_contacts_by = 0,\n",
    "                                            starting_infections = 1000)\n",
    "    secondary_attack_rates.append(model_calibrator.estimate_secondary_attack_rate())\n",
    "    \n",
    "data = pd.DataFrame({\"household_hazard_rate_scale\": np.linspace(0.7, 0.9),\n",
    "                     \"secondary_attack_rate\": secondary_attack_rates})"
   ]
  },
  {
   "cell_type": "code",
   "execution_count": 93,
   "metadata": {},
   "outputs": [
    {
     "data": {
      "text/plain": [
       "<seaborn.axisgrid.FacetGrid at 0x192872f4dc0>"
      ]
     },
     "execution_count": 93,
     "metadata": {},
     "output_type": "execute_result"
    },
    {
     "data": {
      "image/png": "[encoded data removed]",
      "text/plain": [
       "<Figure size 360x360 with 1 Axes>"
      ]
     },
     "metadata": {},
     "output_type": "display_data"
    }
   ],
   "source": [
    "sns.lmplot(\"household_hazard_rate_scale\", \"secondary_attack_rate\", data = data)"
   ]
  },
  {
   "cell_type": "code",
   "execution_count": 94,
   "metadata": {},
   "outputs": [
    {
     "name": "stdout",
     "output_type": "stream",
     "text": [
      "                              OLS Regression Results                             \n",
      "=================================================================================\n",
      "Dep. Variable:     secondary_attack_rate   R-squared:                       0.976\n",
      "Model:                               OLS   Adj. R-squared:                  0.975\n",
      "Method:                    Least Squares   F-statistic:                     1935.\n",
      "Date:                   Fri, 22 May 2020   Prob (F-statistic):           1.91e-40\n",
      "Time:                           15:09:27   Log-Likelihood:                 147.49\n",
      "No. Observations:                     50   AIC:                            -291.0\n",
      "Df Residuals:                         48   BIC:                            -287.2\n",
      "Df Model:                              1                                         \n",
      "Covariance Type:               nonrobust                                         \n",
      "===============================================================================================\n",
      "                                  coef    std err          t      P>|t|      [0.025      0.975]\n",
      "-----------------------------------------------------------------------------------------------\n",
      "Intercept                       1.3112      0.025     52.660      0.000       1.261       1.361\n",
      "household_hazard_rate_scale    -1.3652      0.031    -43.983      0.000      -1.428      -1.303\n",
      "==============================================================================\n",
      "Omnibus:                        0.685   Durbin-Watson:                   2.002\n",
      "Prob(Omnibus):                  0.710   Jarque-Bera (JB):                0.473\n",
      "Skew:                           0.237   Prob(JB):                        0.789\n",
      "Kurtosis:                       2.950   Cond. No.                         27.9\n",
      "==============================================================================\n",
      "\n",
      "Warnings:\n",
      "[1] Standard Errors assume that the covariance matrix of the errors is correctly specified.\n"
     ]
    }
   ],
   "source": [
    "y, X = dmatrices('secondary_attack_rate ~ household_hazard_rate_scale', \n",
    "                 data = data)\n",
    "model_1 = sma.OLS(y, X)\n",
    "res = model_1.fit()\n",
    "print(res.summary())"
   ]
  },
  {
   "cell_type": "code",
   "execution_count": 95,
   "metadata": {},
   "outputs": [
    {
     "data": {
      "text/plain": [
       "0.7772925726183819"
      ]
     },
     "execution_count": 95,
     "metadata": {},
     "output_type": "execute_result"
    }
   ],
   "source": [
    "solve_for_x(0.25, res)"
   ]
  },
  {
   "cell_type": "markdown",
   "metadata": {},
   "source": [
    "A secondary household attack rate of 35% requires the hazard rate scaling to be around 0.722"
   ]
  },
  {
   "cell_type": "markdown",
   "metadata": {},
   "source": [
    "### We now have the hazard rate that leads to correctly assumed within household dynamics"
   ]
  },
  {
   "cell_type": "markdown",
   "metadata": {},
   "source": [
    "In practice we use the script \"tune_R0.py\" to estimate the $R_0$ value for a range of different inputs, however we demonstrate this below."
   ]
  },
  {
   "cell_type": "code",
   "execution_count": 22,
   "metadata": {},
   "outputs": [],
   "source": [
    "household_hazard_rate = solve_for_x(0.35, res)"
   ]
  },
  {
   "cell_type": "code",
   "execution_count": 23,
   "metadata": {},
   "outputs": [],
   "source": [
    "model_calibrator = hct.model_calibration(haz_rate_scale = 0.81,\n",
    "                                         household_haz_rate_scale = household_hazard_rate,\n",
    "                                         contact_tracing_success_prob = 0,\n",
    "                                         overdispersion = 0.36,\n",
    "                                         infection_reporting_prob = 0.2,\n",
    "                                         contact_trace_delay_par = 3,\n",
    "                                         contact_trace = False,\n",
    "                                         reduce_contacts_by = 0)"
   ]
  },
  {
   "cell_type": "code",
   "execution_count": null,
   "metadata": {},
   "outputs": [],
   "source": [
    "model_calibration.calculate_R0()"
   ]
  },
  {
   "cell_type": "code",
   "execution_count": 80,
   "metadata": {},
   "outputs": [
    {
     "name": "stdout",
     "output_type": "stream",
     "text": [
      "x values : 0.81   repeat: 00\r"
     ]
    }
   ],
   "source": [
    "x_vals = np.linspace(0.79, 0.81, 5)\n",
    "repetitions = 1\n",
    "hazard_rate_scale = []\n",
    "R0_estimate = []\n",
    "for x in x_vals:\n",
    "    model_calibration = model.model_calibration(haz_rate_scale = x,\n",
    "                                                household_haz_rate_scale = household_hazard_rate,\n",
    "                                                contact_tracing_success_prob = 2/3,\n",
    "                                                contact_trace_delay_par = 1/3,\n",
    "                                                overdispersion = 0.36,\n",
    "                                                infection_reporting_prob = 0.7,\n",
    "                                                contact_trace = True,\n",
    "                                                reduce_contacts_by = 0)\n",
    "    for repeat in range(repetitions):\n",
    "        print(f\"x values : {x}   repeat: {repeat}\", end = \"\\r\")\n",
    "        hazard_rate_scale.append(x)\n",
    "        R0_estimate.append(model_calibration.calculate_R0())"
   ]
  },
  {
   "cell_type": "code",
   "execution_count": 30,
   "metadata": {},
   "outputs": [],
   "source": [
    "data = pd.read_excel(\"../../Data/calibration_R0_vals.xlsx\")"
   ]
  },
  {
   "cell_type": "code",
   "execution_count": 31,
   "metadata": {},
   "outputs": [
    {
     "data": {
      "image/png": "[encoded data removed]",
      "text/plain": [
       "<Figure size 360x360 with 1 Axes>"
      ]
     },
     "metadata": {},
     "output_type": "display_data"
    }
   ],
   "source": [
    "plot = sns.lmplot(\"hazard_rate_scale\", \"HH Secondary Attack Rate\", data)"
   ]
  },
  {
   "cell_type": "code",
   "execution_count": 66,
   "metadata": {},
   "outputs": [
    {
     "name": "stdout",
     "output_type": "stream",
     "text": [
      "                            OLS Regression Results                            \n",
      "==============================================================================\n",
      "Dep. Variable:            R0_estimate   R-squared:                       0.795\n",
      "Model:                            OLS   Adj. R-squared:                  0.784\n",
      "Method:                 Least Squares   F-statistic:                     69.86\n",
      "Date:                Sun, 03 May 2020   Prob (F-statistic):           1.31e-07\n",
      "Time:                        00:35:51   Log-Likelihood:                 16.596\n",
      "No. Observations:                  20   AIC:                            -29.19\n",
      "Df Residuals:                      18   BIC:                            -27.20\n",
      "Df Model:                           1                                         \n",
      "Covariance Type:            nonrobust                                         \n",
      "=====================================================================================\n",
      "                        coef    std err          t      P>|t|      [0.025      0.975]\n",
      "-------------------------------------------------------------------------------------\n",
      "Intercept            17.1675      1.660     10.342      0.000      13.680      20.655\n",
      "hazard_rate_scale   -17.1261      2.049     -8.358      0.000     -21.431     -12.821\n",
      "==============================================================================\n",
      "Omnibus:                        1.387   Durbin-Watson:                   2.014\n",
      "Prob(Omnibus):                  0.500   Jarque-Bera (JB):                0.882\n",
      "Skew:                           0.074   Prob(JB):                        0.644\n",
      "Kurtosis:                       1.982   Cond. No.                         136.\n",
      "==============================================================================\n",
      "\n",
      "Warnings:\n",
      "[1] Standard Errors assume that the covariance matrix of the errors is correctly specified.\n"
     ]
    }
   ],
   "source": [
    "y, X = dmatrices('R0_estimate ~ hazard_rate_scale', \n",
    "                 data = data)\n",
    "model_1 = sma.OLS(y, X)\n",
    "res = model_1.fit()\n",
    "print(res.summary())"
   ]
  },
  {
   "cell_type": "code",
   "execution_count": 67,
   "metadata": {},
   "outputs": [
    {
     "data": {
      "text/plain": [
       "0.827243449006354"
      ]
     },
     "execution_count": 67,
     "metadata": {},
     "output_type": "execute_result"
    }
   ],
   "source": [
    "solve_for_x(3.0, res)"
   ]
  },
  {
   "cell_type": "code",
   "execution_count": 68,
   "metadata": {},
   "outputs": [
    {
     "data": {
      "text/plain": [
       "0.8389215257885617"
      ]
     },
     "execution_count": 68,
     "metadata": {},
     "output_type": "execute_result"
    }
   ],
   "source": [
    "solve_for_x(2.8, res)"
   ]
  },
  {
   "cell_type": "code",
   "execution_count": 69,
   "metadata": {},
   "outputs": [
    {
     "data": {
      "text/plain": [
       "0.8505996025707694"
      ]
     },
     "execution_count": 69,
     "metadata": {},
     "output_type": "execute_result"
    }
   ],
   "source": [
    "solve_for_x(2.6, res)"
   ]
  },
  {
   "cell_type": "markdown",
   "metadata": {},
   "source": [
    "## Proving the probabilities give rise to the correct generation times"
   ]
  },
  {
   "cell_type": "markdown",
   "metadata": {},
   "source": [
    "We simulate a generation time where a contact is guaranteed to happen each day. If an infection does occur, we record the time at which it does occur.\n",
    "\n",
    "We can change the $\\texttt{survive_forever}$ parameter, while maintaining the correct generation times."
   ]
  },
  {
   "cell_type": "code",
   "execution_count": 2,
   "metadata": {},
   "outputs": [],
   "source": [
    "x = np.linspace(0, 14) \n",
    "y = list(map(hct.weibull_pdf, x))"
   ]
  },
  {
   "cell_type": "markdown",
   "metadata": {},
   "source": [
    "The hazard rate version"
   ]
  },
  {
   "cell_type": "code",
   "execution_count": 8,
   "metadata": {},
   "outputs": [],
   "source": [
    "repeats = 10000\n",
    "times_of_infection_1 = []\n",
    "\n",
    "for _ in range(repeats):\n",
    "    is_infected=False\n",
    "    day = 1\n",
    "\n",
    "    while is_infected is False and day < 35:\n",
    "\n",
    "        if np.random.binomial(1, hct.current_prob_infection(day, survive_forever=0.2)) == 1:\n",
    "            times_of_infection_1.append(day)\n",
    "            is_infected = True\n",
    "\n",
    "        day += 1\n",
    "    "
   ]
  },
  {
   "cell_type": "code",
   "execution_count": 9,
   "metadata": {},
   "outputs": [
    {
     "data": {
      "text/plain": [
       "[<matplotlib.lines.Line2D at 0x192846207c0>]"
      ]
     },
     "execution_count": 9,
     "metadata": {},
     "output_type": "execute_result"
    },
    {
     "data": {
      "image/png": "[encoded data removed]",
      "text/plain": [
       "<Figure size 432x288 with 1 Axes>"
      ]
     },
     "metadata": {},
     "output_type": "display_data"
    }
   ],
   "source": [
    "plot = sns.distplot(times_of_infection_1, bins = range(14), fit = ss.weibull_min, kde = False)\n",
    "plt.plot(x,y)"
   ]
  },
  {
   "cell_type": "code",
   "execution_count": 10,
   "metadata": {},
   "outputs": [
    {
     "data": {
      "text/plain": [
       "4.984066131544267"
      ]
     },
     "execution_count": 10,
     "metadata": {},
     "output_type": "execute_result"
    }
   ],
   "source": [
    "times_of_infection_1 = np.array(times_of_infection_1)\n",
    "times_of_infection_1.mean()"
   ]
  },
  {
   "cell_type": "code",
   "execution_count": 11,
   "metadata": {},
   "outputs": [
    {
     "data": {
      "text/plain": [
       "3.519453791241811"
      ]
     },
     "execution_count": 11,
     "metadata": {},
     "output_type": "execute_result"
    }
   ],
   "source": [
    "times_of_infection_1.var()"
   ]
  },
  {
   "cell_type": "markdown",
   "metadata": {},
   "source": [
    "These align with the require mean and standard deviation."
   ]
  },
  {
   "cell_type": "markdown",
   "metadata": {},
   "source": [
    "## The scenario where contacts are not always guaranteed to happen"
   ]
  },
  {
   "cell_type": "markdown",
   "metadata": {},
   "source": [
    "In this scenario, there is a probabiility of a contact happening each day, which is more realistic for the within household model scenario.\n",
    "\n",
    "* $\\texttt{contact_prob}$ - the probability of a contact occuring each day\n",
    "* $\\texttt{survive_forever}$ - controls the overal infectiousness"
   ]
  },
  {
   "cell_type": "code",
   "execution_count": 78,
   "metadata": {},
   "outputs": [],
   "source": [
    "survive_forever = 0.8\n",
    "contact_prob = 0.8\n",
    "day_0_infection_prob = hct.current_prob_infection(0, survive_forever)/contact_prob\n",
    "infection_probs = np.array(day_0_infection_prob)\n",
    "\n",
    "for day in range(1, 40):\n",
    "    survival_function = (1 - infection_probs*contact_prob).prod()\n",
    "    hazard = hct.current_prob_infection(day, survive_forever=0.8)\n",
    "    current_prob_infection = hazard * survival_function / contact_prob\n",
    "    infection_probs = np.append(infection_probs, current_prob_infection)"
   ]
  },
  {
   "cell_type": "code",
   "execution_count": 82,
   "metadata": {},
   "outputs": [],
   "source": [
    "repeats = 100000\n",
    "times_of_infection_2 = []\n",
    "contact_prob = 0.8\n",
    "for _ in range(repeats):\n",
    "    is_infected=False\n",
    "    day = 0\n",
    "\n",
    "    while is_infected is False and day < 35:\n",
    "\n",
    "        # Does a contact occur today?\n",
    "        if np.random.binomial(1, contact_prob) == 1:\n",
    "\n",
    "            # Is the contact infectious?\n",
    "            if np.random.binomial(1, infection_probs[day]) == 1:\n",
    "                times_of_infection_2.append(day)\n",
    "                is_infected=True\n",
    "\n",
    "        day += 1"
   ]
  },
  {
   "cell_type": "code",
   "execution_count": 83,
   "metadata": {},
   "outputs": [
    {
     "data": {
      "text/plain": [
       "[<matplotlib.lines.Line2D at 0x1928708af10>]"
      ]
     },
     "execution_count": 83,
     "metadata": {},
     "output_type": "execute_result"
    },
    {
     "data": {
      "image/png": "[encoded data removed]",
      "text/plain": [
       "<Figure size 432x288 with 1 Axes>"
      ]
     },
     "metadata": {},
     "output_type": "display_data"
    }
   ],
   "source": [
    "sns.distplot(times_of_infection_2, bins = range(14), fit = ss.exponweib, kde = False)\n",
    "plt.plot(x, y)"
   ]
  },
  {
   "cell_type": "code",
   "execution_count": 84,
   "metadata": {},
   "outputs": [
    {
     "data": {
      "text/plain": [
       "4.966855857785393"
      ]
     },
     "execution_count": 84,
     "metadata": {},
     "output_type": "execute_result"
    }
   ],
   "source": [
    "times_of_infection_2 = np.array(times_of_infection_2)\n",
    "times_of_infection_2.mean()"
   ]
  },
  {
   "cell_type": "code",
   "execution_count": 85,
   "metadata": {},
   "outputs": [
    {
     "data": {
      "text/plain": [
       "3.7520070558989698"
      ]
     },
     "execution_count": 85,
     "metadata": {},
     "output_type": "execute_result"
    }
   ],
   "source": [
    "times_of_infection_2.var()"
   ]
  }
 ],
 "metadata": {
  "kernelspec": {
   "display_name": "Python 3",
   "language": "python",
   "name": "python3"
  },
  "language_info": {
   "codemirror_mode": {
    "name": "ipython",
    "version": 3
   },
   "file_extension": ".py",
   "mimetype": "text/x-python",
   "name": "python",
   "nbconvert_exporter": "python",
   "pygments_lexer": "ipython3",
   "version": "3.8.2"
  }
 },
 "nbformat": 4,
 "nbformat_minor": 4
}
